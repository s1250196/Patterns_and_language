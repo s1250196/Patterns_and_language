{
 "cells": [
  {
   "cell_type": "markdown",
   "id": "1ba6bb1e",
   "metadata": {},
   "source": [
    "# Black Task"
   ]
  },
  {
   "cell_type": "code",
   "execution_count": 1,
   "id": "3fd5032f",
   "metadata": {},
   "outputs": [],
   "source": [
    "import re\n",
    "import nltk\n",
    "import csv\n",
    "import pandas as pd\n",
    "import math\n",
    "import sys"
   ]
  },
  {
   "cell_type": "markdown",
   "id": "23976cf4",
   "metadata": {},
   "source": [
    "## main function"
   ]
  },
  {
   "cell_type": "code",
   "execution_count": 2,
   "id": "f03f4146",
   "metadata": {},
   "outputs": [],
   "source": [
    "def main():\n",
    "    upVerbs = [\"went up\",\"increased\",\"rose\"]\n",
    "    downVerbs = [\"went down\",\"decreased\",\"fell\"]\n",
    "\n",
    "    #Prepare to reading csv file.\n",
    "    df = pd.read_csv(\"input.csv\",header=None,dtype=str)\n",
    "    df = df.fillna('missing')\n",
    "\n",
    "    if NumberOfError(df) > 0:\n",
    "        sys.exit()\n",
    "    \n",
    "    #extract nouns\n",
    "    nouns = ExtractNouns(df)\n",
    "    \n",
    "    #extract values\n",
    "    P = [int(i) for i in df.iloc[1:,1]]\n",
    "    M = [i for i in df.iloc[1:,0]]\n",
    "    \n",
    "    #extract max value and min value\n",
    "    maxValue = max(P)\n",
    "    minValue = min(P)\n",
    "    \n",
    "    #remove elements with similar tendencies\n",
    "    P,M = RemoveSameTrend(P,M)\n",
    "    \n",
    "    #generate subject\n",
    "    cntEven = 0\n",
    "    flagMax = 0\n",
    "    flagMin = 0\n",
    "    \n",
    "    for i in range(len(P)-1):        \n",
    "        P1 = P[i]\n",
    "        P2 = P[i+1]\n",
    "        M1 = M[i]\n",
    "        M2 = M[i+1]\n",
    "        \n",
    "        noun = nouns[i % len(nouns)]\n",
    "        if P1 < P2:\n",
    "            verb = upVerbs[i % len(upVerbs)]\n",
    "        else:\n",
    "            verb = downVerbs[i % len(upVerbs)]\n",
    "        \n",
    "        if P1 == P2:\n",
    "            #when the value does not change\n",
    "            sentence = GenerateEven(cntEven,noun,P1,M1,M2)\n",
    "            cntEven += 1\n",
    "        else:\n",
    "            sentence = GenerateSentence(noun,verb,P1,P2,M1,M2,maxValue,minValue,flagMax,flagMin,i)\n",
    "            \n",
    "            if maxValue in [P1,P2]:\n",
    "                flagMax = 1\n",
    "            if minValue in [P1,P2]:\n",
    "                flagMin = 1\n",
    "        \n",
    "        print(sentence)"
   ]
  },
  {
   "cell_type": "markdown",
   "id": "e09f5062",
   "metadata": {},
   "source": [
    "## error detection"
   ]
  },
  {
   "cell_type": "code",
   "execution_count": 3,
   "id": "0caf1261",
   "metadata": {},
   "outputs": [],
   "source": [
    "def NumberOfError(df):\n",
    "    cntErr = 0\n",
    "    errTex = []\n",
    "\n",
    "    #Error when subject is empty\n",
    "    if df.at[0,0] == 'missing':\n",
    "        errTex.append('Row 0, column 0 : Subject is missing')\n",
    "        cntErr += 1\n",
    "    \n",
    "    #Prepare to raise an error if the information being entered is incorrect\n",
    "    for i in range(1,len(df)):\n",
    "        for j in [0,1]:\n",
    "            p = 'Row ' + str(i) + ', column ' + str(j) + ' : '\n",
    "            if df.at[i,j] == 'missing':\n",
    "                errTex.append(p + 'Value is missing')\n",
    "                cntErr += 1\n",
    "            elif j == 0 and df.at[i,j].isdigit():\n",
    "                errTex.append(p + 'Please enter a time period')\n",
    "                cntErr += 1\n",
    "            elif j == 1 and not df.at[i,j].isdigit():\n",
    "                errTex.append(p + 'Please enter a number')\n",
    "                cntErr += 1\n",
    "\n",
    "    #Display an error if there is more than one error\n",
    "    if cntErr > 0:\n",
    "        print(str(cntErr) + ' error'+ (\"s\" if cntErr > 1 else \"\") + ' found')\n",
    "        for i in errTex:\n",
    "            print(i)\n",
    "            \n",
    "    return cntErr"
   ]
  },
  {
   "cell_type": "markdown",
   "id": "b0544cad",
   "metadata": {},
   "source": [
    "### example"
   ]
  },
  {
   "cell_type": "code",
   "execution_count": 4,
   "id": "7ac39635",
   "metadata": {},
   "outputs": [
    {
     "name": "stdout",
     "output_type": "stream",
     "text": [
      "5 errors found\n",
      "Row 0, column 0 : Subject is missing\n",
      "Row 2, column 0 : Please enter a time period\n",
      "Row 2, column 1 : Please enter a number\n",
      "Row 3, column 0 : Value is missing\n",
      "Row 3, column 1 : Value is missing\n",
      "Return value is 5\n"
     ]
    }
   ],
   "source": [
    "#Prepare to reading csv file.\n",
    "df_ex = pd.read_csv(\"input_error.csv\",header=None,dtype=str)\n",
    "df_ex = df_ex.fillna('missing')\n",
    "\n",
    "print(\"The return value is\",NumberOfError(df_ex))"
   ]
  },
  {
   "cell_type": "markdown",
   "id": "a7361fcf",
   "metadata": {},
   "source": [
    "## extract nouns using nltk"
   ]
  },
  {
   "cell_type": "code",
   "execution_count": 5,
   "id": "83d9081b",
   "metadata": {},
   "outputs": [],
   "source": [
    "def ExtractNouns(df):\n",
    "    #extract nouns and tagging by type\n",
    "    tokens = nltk.word_tokenize(df.at[0,0])\n",
    "    tagged = nltk.pos_tag(tokens)\n",
    "    nouns = [df.at[0,0],\"They\"]\n",
    "\n",
    "    #Add various expressions for a single noun to nouns\n",
    "    for i in tagged:\n",
    "        if i[1] in ['NN','NNS','NNP','NNPS']:\n",
    "            nouns.append(\"The \" + i[0])\n",
    "            if i[1] in ['NN','NNP']:\n",
    "                nouns.append(\"It\")\n",
    "            else:\n",
    "                nouns.append(\"They\")\n",
    "                \n",
    "    return nouns"
   ]
  },
  {
   "cell_type": "markdown",
   "id": "52b0aacf",
   "metadata": {},
   "source": [
    "### example"
   ]
  },
  {
   "cell_type": "code",
   "execution_count": 6,
   "id": "e997d422",
   "metadata": {},
   "outputs": [
    {
     "name": "stdout",
     "output_type": "stream",
     "text": [
      "subject : The number of bananas\n",
      "nouns : ['The number of bananas', 'They', 'The number', 'It', 'The bananas', 'They']\n"
     ]
    }
   ],
   "source": [
    "#Prepare to reading csv file.\n",
    "df_ex = pd.read_csv(\"input.csv\",header=None,dtype=str)\n",
    "df_ex = df_ex.fillna('missing')\n",
    "\n",
    "nouns_ex = ExtractNouns(df_ex)\n",
    "print(\"subject :\",df_ex.at[0,0])\n",
    "print(\"nouns :\",nouns_ex)"
   ]
  },
  {
   "cell_type": "markdown",
   "id": "2ab35399",
   "metadata": {},
   "source": [
    "## remove same trend"
   ]
  },
  {
   "cell_type": "code",
   "execution_count": 7,
   "id": "6d8dab40",
   "metadata": {},
   "outputs": [],
   "source": [
    "def RemoveSameTrend(P,M):\n",
    "    newP = [P[0]]\n",
    "    newM = [M[0]]\n",
    "    for i in range(1,len(P)-1):\n",
    "        sub1 = P[i] - P[i-1]\n",
    "        sub2 = P[i+1] - P[i]\n",
    "        if sub1 * sub2 > 0:\n",
    "            continue\n",
    "        if sub1 == sub2 == 0:\n",
    "            continue\n",
    "        newP.append(P[i])\n",
    "        newM.append(M[i])\n",
    "\n",
    "    newP.append(P[-1])\n",
    "    newM.append(M[-1])\n",
    "    \n",
    "    return newP,newM"
   ]
  },
  {
   "cell_type": "markdown",
   "id": "ef252c14",
   "metadata": {},
   "source": [
    "### example"
   ]
  },
  {
   "cell_type": "code",
   "execution_count": 8,
   "id": "56c22597",
   "metadata": {},
   "outputs": [
    {
     "name": "stdout",
     "output_type": "stream",
     "text": [
      "before remove : [1, 2, 3, 3, 3, 2, 1] ['a', 'b', 'c', 'd', 'e', 'f', 'g']\n",
      "after remove : [1, 3, 3, 1] ['a', 'c', 'e', 'g']\n"
     ]
    }
   ],
   "source": [
    "P_ex1 = [1,2,3,3,3,2,1]\n",
    "M_ex1 = ['a','b','c','d','e','f','g']\n",
    "P_ex2,M_ex2 = RemoveSameTrend(P_ex1,M_ex1)\n",
    "\n",
    "print(\"before remove :\",P_ex1,M_ex1)\n",
    "print(\"after remove :\",P_ex2,M_ex2)"
   ]
  },
  {
   "cell_type": "markdown",
   "id": "ee80689b",
   "metadata": {},
   "source": [
    "## generate sentence when trends are the same"
   ]
  },
  {
   "cell_type": "code",
   "execution_count": 9,
   "id": "f9f35fa5",
   "metadata": {},
   "outputs": [],
   "source": [
    "def GenerateEven(cntEven,noun,P1,M1,M2):\n",
    "    sentence = noun\n",
    "    \n",
    "    if cntEven % 3 == 0:\n",
    "        sentence += \" remained stable at \"\n",
    "    elif cntEven % 3 == 1:\n",
    "        sentence += \" remained steady at \"\n",
    "    else:\n",
    "        sentence += \" evened out \"\n",
    "            \n",
    "    sentence += str(P1) + \" from \" + M1 + \" to \" + M2 + \".\"\n",
    "    \n",
    "    return sentence"
   ]
  },
  {
   "cell_type": "markdown",
   "id": "4a87dcc7",
   "metadata": {},
   "source": [
    "### example"
   ]
  },
  {
   "cell_type": "code",
   "execution_count": 10,
   "id": "defad75a",
   "metadata": {},
   "outputs": [
    {
     "name": "stdout",
     "output_type": "stream",
     "text": [
      "cntEven = 0 , return value : The number remained stable at 100 from jan to Mar.\n",
      "cntEven = 1 , return value : The number remained steady at 100 from jan to Mar.\n",
      "cntEven = 2 , return value : The number evened out 100 from jan to Mar.\n",
      "cntEven = 3 , return value : The number remained stable at 100 from jan to Mar.\n"
     ]
    }
   ],
   "source": [
    "for i in range(4):\n",
    "    print(\"cntEven =\",i,\", return value :\",GenerateEven(i,\"The number\",\"100\",\"jan\",\"Mar\"))"
   ]
  },
  {
   "cell_type": "markdown",
   "id": "8060cb05",
   "metadata": {},
   "source": [
    "## generate sentence"
   ]
  },
  {
   "cell_type": "code",
   "execution_count": 11,
   "id": "e54a8500",
   "metadata": {},
   "outputs": [],
   "source": [
    "def GenerateSentence(noun,verb,P1,P2,M1,M2,maxValue,minValue,flagMax,flagMin,i):\n",
    "    #calculate rate of change and choose expression of the amount of change\n",
    "    rate = 1\n",
    "    if P1 > 0:\n",
    "        rate = float(abs(P1 - P2)) / float(P1)\n",
    "    \n",
    "    if rate <= 0.05:\n",
    "        adj = \"slight\"\n",
    "    elif rate >= 1:\n",
    "        adj = \"significant\"\n",
    "    else:\n",
    "        adj = \"substantial\"\n",
    "        \n",
    "    #Determine the increase/decrease and add a sentence\n",
    "    #Add passive sentences one out of three times\n",
    "    if i % 4 == 3:\n",
    "        sentence = \"There was a \" + adj        \n",
    "        if P1 < P2:\n",
    "            sentence += \" increase\"\n",
    "        else:\n",
    "            sentence += \" decrease\"  \n",
    "    else:\n",
    "        #Change the wording according to the number of times the sentence was created\n",
    "        sentence = noun + \" \"      \n",
    "        if P1 < P2:\n",
    "            sentence += verb\n",
    "        else:\n",
    "            sentence += verb\n",
    "        sentence += \" \" + adj + \"ly\"\n",
    "    \n",
    "    #prepare to adding values to the sentence\n",
    "    S1 = str(P1)\n",
    "    S2 = str(P2)\n",
    "    \n",
    "    #Add a special expression if the value is the maximum or minimum\n",
    "    #Change the wording according to the number of times the sentence was created\n",
    "    if P1 == maxValue:\n",
    "        if flagMax == 0:\n",
    "            S1 = \"a high of \" + S1\n",
    "            flagMax = 1\n",
    "        else:\n",
    "            S1 = \"its peak\"\n",
    "    \n",
    "    if P1 == minValue:\n",
    "        if flagMin == 0:\n",
    "            S1 = \"a low of \" + S1\n",
    "            flagMin = 1\n",
    "        else:\n",
    "            S1 = \"its low\"\n",
    "            \n",
    "    if P2 == maxValue:\n",
    "        if flagMax == 0:\n",
    "            S2 = \"a high of \" + S2\n",
    "            flagMax = 1\n",
    "        else:\n",
    "            S2 = \"its peak\"\n",
    "            \n",
    "    if P2 == minValue:\n",
    "        if flagMin == 0:\n",
    "            S2 = \"a low of \" + S2\n",
    "            flagMin = 1\n",
    "        else:\n",
    "            S2 = \"its low\"\n",
    "    \n",
    "    #Add a time period to the sentence\n",
    "    #Change the wording according to the number of times the sentence was created\n",
    "    if i % 5 == 0:\n",
    "        sentence += \" from \" + S1 + \" in \" + M1 + \" to \" + S2 + \" in \" + M2 + \".\"\n",
    "    elif i % 5 == 1:\n",
    "        sentence += \" from \" + S1 + \" in \" + M1 +\" by \" + str(abs(P1-P2)) + \" to \" + S2 + \" in \" + M2 + \".\"\n",
    "    elif i % 5 == 2:\n",
    "        sentence += \" in \" + M1 + \" by \" + str(abs(P1-P2)) + \" to \" + S2 + \" in \" + M2 + \".\"\n",
    "    elif i % 5 == 3:\n",
    "        sentence += \" from \" + S1 + \" in \" + M1 +\" by \" + str(abs(P1-P2))\n",
    "        if S2[0] == 'a':\n",
    "            sentence += \" to \" + S2\n",
    "        sentence += \" in \" + M2 + \".\"\n",
    "    else:\n",
    "        sentence = \"From \" + M1 + \" to \" + M2 + \", \" + sentence.lower() + \" to \" + S2\n",
    "        \n",
    "    return sentence"
   ]
  },
  {
   "cell_type": "markdown",
   "id": "ae49beb4",
   "metadata": {},
   "source": [
    "### example : expression max/min"
   ]
  },
  {
   "cell_type": "code",
   "execution_count": 12,
   "id": "c8fd587b",
   "metadata": {},
   "outputs": [
    {
     "name": "stdout",
     "output_type": "stream",
     "text": [
      "The number rose significantly from 100 in Jun to 200 in Mar.\n",
      "The number rose significantly from 100 in Jun to a high of 200 in Mar.\n",
      "The number rose significantly from 100 in Jun to its peak in Mar.\n",
      "The number rose significantly from a low of 100 in Jun to 200 in Mar.\n",
      "The number rose significantly from its low in Jun to 200 in Mar.\n"
     ]
    }
   ],
   "source": [
    "print(GenerateSentence(\"The number\",\"rose\",100,200,\"Jun\",\"Mar\",1000,0,0,0,0))\n",
    "print(GenerateSentence(\"The number\",\"rose\",100,200,\"Jun\",\"Mar\",200,0,0,0,0))\n",
    "print(GenerateSentence(\"The number\",\"rose\",100,200,\"Jun\",\"Mar\",200,0,1,0,0))\n",
    "print(GenerateSentence(\"The number\",\"rose\",100,200,\"Jun\",\"Mar\",1000,100,0,0,0))\n",
    "print(GenerateSentence(\"The number\",\"rose\",100,200,\"Jun\",\"Mar\",1000,100,0,1,0))"
   ]
  },
  {
   "cell_type": "markdown",
   "id": "181557c7",
   "metadata": {},
   "source": [
    "### example : expression of period and expression of passive"
   ]
  },
  {
   "cell_type": "code",
   "execution_count": 13,
   "id": "c96fb724",
   "metadata": {},
   "outputs": [
    {
     "name": "stdout",
     "output_type": "stream",
     "text": [
      "i = 0 : The number rose significantly from 100 in Jun to 200 in Mar.\n",
      "i = 1 : The number rose significantly from 100 in Jun by 100 to 200 in Mar.\n",
      "i = 2 : The number rose significantly in Jun by 100 to 200 in Mar.\n",
      "i = 3 : There was a significant increase from 100 in Jun by 100 in Mar.\n",
      "i = 4 : From Jun to Mar, the number rose significantly to 200\n"
     ]
    }
   ],
   "source": [
    "for i in range(5):\n",
    "    print(\"i =\",i,\":\",GenerateSentence(\"The number\",\"rose\",100,200,\"Jun\",\"Mar\",1000,0,0,0,i))"
   ]
  },
  {
   "cell_type": "markdown",
   "id": "266ca2cc",
   "metadata": {},
   "source": [
    "## execution main function"
   ]
  },
  {
   "cell_type": "code",
   "execution_count": 14,
   "id": "5a925418",
   "metadata": {},
   "outputs": [
    {
     "name": "stdout",
     "output_type": "stream",
     "text": [
      "The number of bananas went up significantly from a low of 1 in Jan to 600 in Mar.\n",
      "They remained stable at 600 from Mar to Apr.\n",
      "The number fell substantially in Apr by 590 to 10 in Jul.\n",
      "It remained steady at 10 from Jul to Aug.\n",
      "From Aug to Sep, the bananas increased significantly to a high of 1000\n",
      "They fell substantially from its peak in Sep to its low in Oct.\n",
      "The number of bananas went up significantly from its low in Oct by 99 to 100 in Nov.\n",
      "There was a substantial decrease in Nov by 50 to 50 in Dec.\n"
     ]
    }
   ],
   "source": [
    "main()"
   ]
  }
 ],
 "metadata": {
  "kernelspec": {
   "display_name": "Python 3",
   "language": "python",
   "name": "python3"
  },
  "language_info": {
   "codemirror_mode": {
    "name": "ipython",
    "version": 3
   },
   "file_extension": ".py",
   "mimetype": "text/x-python",
   "name": "python",
   "nbconvert_exporter": "python",
   "pygments_lexer": "ipython3",
   "version": "3.8.10"
  }
 },
 "nbformat": 4,
 "nbformat_minor": 5
}
